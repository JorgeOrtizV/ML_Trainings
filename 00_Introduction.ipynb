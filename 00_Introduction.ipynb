{
 "cells": [
  {
   "cell_type": "markdown",
   "metadata": {
    "id": "Gp-I4_m_noXp"
   },
   "source": [
    "## Introduction to Pytorch"
   ]
  },
  {
   "cell_type": "markdown",
   "metadata": {
    "id": "CeFAj_o2noXu"
   },
   "source": [
    "### Installation:"
   ]
  },
  {
   "cell_type": "markdown",
   "metadata": {
    "id": "x9qiadAfnoXv"
   },
   "source": [
    "** Just useful when intended to run locally **\n",
    "\n",
    "1. Install anaconda \n",
    "        https://www.anaconda.com/\n",
    "2. Ideally: create a virtual env.\n",
    "        conda create -n pytorch python=3.6\n",
    "        conda activate pytorch\n",
    "3. Supporting dependencies\n",
    "        conda install h5py imageio jupyter matplotlib numpy tqdm\n",
    "4. Install pytorch GPU version (preferred if available) or CPU version\n",
    "        GPU: conda install pytorch torchvision torchaudio cudatoolkit=10.2 -c pytorch\n",
    "        CPU: conda install pytorch torchvision cpuonly -c pytorch"
   ]
  },
  {
   "cell_type": "markdown",
   "metadata": {
    "id": "OdaeL0DQnoXw"
   },
   "source": [
    "### Run in web-based application"
   ]
  },
  {
   "cell_type": "markdown",
   "metadata": {
    "id": "IExI-tjtnoXx"
   },
   "source": [
    "If a local installation is not possible, the usage of a web-based application as google colab or kaggle is a good option\n",
    "\n",
    "* Enter to https://colab.research.google.com/\n",
    "* Login with a google account\n",
    "* I will share the notebook with your account."
   ]
  },
  {
   "cell_type": "markdown",
   "metadata": {
    "id": "mpQZgaRhnoXx"
   },
   "source": [
    "If you prefer the first option...\n",
    "* Download git\n",
    " * https://git-scm.com/\n",
    "* Open git bash\n",
    "* cd C\n",
    "* git clone https://github.com/JorgeOrtizV/ML_Trainings.git\n"
   ]
  },
  {
   "cell_type": "markdown",
   "metadata": {
    "id": "HIft8nj-noXy"
   },
   "source": [
    "### Practice"
   ]
  },
  {
   "cell_type": "markdown",
   "metadata": {
    "id": "iVIb-O-AnoXz"
   },
   "source": [
    "The goal of this notebook is to give the user a brief introduction to the the machine learning framework, pytorch. During this practical exercise we are going to learn how to create and manipulate tensors, and obtain derivatives from this tensors.\n",
    "\n",
    "Pytorch is a library for processing tensors.\n",
    "\n",
    "A tensor is a generalization of a matrix (vector, number, matrix, n-dimensional arrays, etc.)"
   ]
  },
  {
   "cell_type": "code",
   "execution_count": null,
   "metadata": {
    "id": "KX1Imvx7noX0"
   },
   "outputs": [],
   "source": [
    "# Importing pytorch\n",
    "\n",
    "import torch"
   ]
  },
  {
   "cell_type": "code",
   "execution_count": null,
   "metadata": {
    "id": "XbF3z1YNnoX1"
   },
   "outputs": [],
   "source": [
    "# Creating tensors\n",
    "\n",
    "t1 = torch.tensor(4.)\n",
    "t2 = torch.tensor([1, 2, 3, 4])\n",
    "t3 = torch.tensor([1, 2, 3, 4.])\n",
    "t4 = torch.tensor([[1, 2], [3, 4], [5, 6.]])\n",
    "t5 = torch.tensor([[[1,2],[3,4]], [[5,6],[7,8]]])  # 3-D matrix"
   ]
  },
  {
   "cell_type": "code",
   "execution_count": null,
   "metadata": {
    "colab": {
     "base_uri": "https://localhost:8080/"
    },
    "id": "3q2iolqBnoX2",
    "outputId": "71c47858-ae24-49c8-d65e-342df605a1f8"
   },
   "outputs": [],
   "source": [
    "# Taking a look into the tensors and the datatype\n",
    "\n",
    "print(\"t1: {}\".format(t1.dtype))\n",
    "t1"
   ]
  },
  {
   "cell_type": "code",
   "execution_count": null,
   "metadata": {
    "colab": {
     "base_uri": "https://localhost:8080/"
    },
    "id": "RnxpMThonoX3",
    "outputId": "2824fc00-6527-466f-becd-3d9b6110e5d3"
   },
   "outputs": [],
   "source": [
    "print(\"t2: {}\".format(t2.dtype))\n",
    "t2"
   ]
  },
  {
   "cell_type": "code",
   "execution_count": null,
   "metadata": {
    "colab": {
     "base_uri": "https://localhost:8080/"
    },
    "id": "4ZYIQbLjnoX3",
    "outputId": "d53fe033-dcd3-48f0-d82d-81ea68bdd2a5"
   },
   "outputs": [],
   "source": [
    "print(\"t3: {}\".format(t3.dtype))\n",
    "t3"
   ]
  },
  {
   "cell_type": "code",
   "execution_count": null,
   "metadata": {
    "colab": {
     "base_uri": "https://localhost:8080/"
    },
    "id": "-V4pNNPNnoX3",
    "outputId": "db6235ff-e89b-41b0-a126-a09ad5819f29"
   },
   "outputs": [],
   "source": [
    "print(\"t4: {}\".format(t4.dtype))\n",
    "t4"
   ]
  },
  {
   "cell_type": "code",
   "execution_count": null,
   "metadata": {
    "colab": {
     "base_uri": "https://localhost:8080/"
    },
    "id": "MQplELRKnoX4",
    "outputId": "1f7557bf-40c0-4f1b-95ad-ed1987a5fd36"
   },
   "outputs": [],
   "source": [
    "print(\"t5: {}\".format(t5.dtype))\n",
    "t5"
   ]
  },
  {
   "cell_type": "code",
   "execution_count": null,
   "metadata": {
    "colab": {
     "base_uri": "https://localhost:8080/"
    },
    "id": "QGRW2xRHnoX4",
    "outputId": "e7c286a5-2470-470d-ee34-765cdfdbafed"
   },
   "outputs": [],
   "source": [
    "# Obtain the shape of a tensor...\n",
    "\n",
    "print(\"shape t1: {}\".format(t1.shape))\n",
    "print(\"shape t2: {}\".format(t2.shape))\n",
    "print(\"shape t3: {}\".format(t3.shape))\n",
    "print(\"shape t4: {}\".format(t4.shape))\n",
    "print(\"shape t5: {}\".format(t5.shape))"
   ]
  },
  {
   "cell_type": "code",
   "execution_count": null,
   "metadata": {
    "colab": {
     "base_uri": "https://localhost:8080/",
     "height": 201
    },
    "id": "79WSlwpGnoX4",
    "outputId": "9ba10d80-4689-477c-f3a1-b2264b0f5423"
   },
   "outputs": [],
   "source": [
    "# Attempt to create an irregular size tensor\n",
    "\n",
    "t6 = torch.tensor([1, 2, 3], [1, 2])"
   ]
  },
  {
   "cell_type": "markdown",
   "metadata": {},
   "source": [
    "As you can see Tensors must have a congruent size. In difference to MATLAB, \"empty spaces\" are not automatically filled"
   ]
  },
  {
   "cell_type": "code",
   "execution_count": null,
   "metadata": {
    "colab": {
     "base_uri": "https://localhost:8080/"
    },
    "id": "IXuT2pmTnoX5",
    "outputId": "eccdb1c5-0537-4c58-fe56-c53c6a065919"
   },
   "outputs": [],
   "source": [
    "# Change the shape of a tensor\n",
    "\n",
    "t6 = t2.reshape(2,2)\n",
    "t6"
   ]
  },
  {
   "cell_type": "code",
   "execution_count": null,
   "metadata": {
    "colab": {
     "base_uri": "https://localhost:8080/"
    },
    "id": "AnjAjtqknoX5",
    "outputId": "57c9d782-822f-4d3a-8b3d-8bc7da6f825d"
   },
   "outputs": [],
   "source": [
    "t6 = t2.view(2,2) # Interdependency between tensors\n",
    "t2"
   ]
  },
  {
   "cell_type": "code",
   "execution_count": null,
   "metadata": {
    "colab": {
     "base_uri": "https://localhost:8080/"
    },
    "id": "Fx8lGUiKnoX5",
    "outputId": "432d8633-360c-4645-fe32-7160f90724b4"
   },
   "outputs": [],
   "source": [
    "t2[2]=7\n",
    "t2"
   ]
  },
  {
   "cell_type": "code",
   "execution_count": null,
   "metadata": {
    "colab": {
     "base_uri": "https://localhost:8080/"
    },
    "id": "8xEZUctPnoX6",
    "outputId": "f22f1057-7a1f-4c6d-a9d9-7334f6b32344"
   },
   "outputs": [],
   "source": [
    "t6"
   ]
  },
  {
   "cell_type": "markdown",
   "metadata": {},
   "source": [
    "As it is possible to observe when using the method view, changes made to one element will be reflected in the other."
   ]
  },
  {
   "cell_type": "code",
   "execution_count": null,
   "metadata": {
    "colab": {
     "base_uri": "https://localhost:8080/"
    },
    "id": "y-D3FmK4noX6",
    "outputId": "ba61ea60-5e8b-43a2-8740-e82862155406"
   },
   "outputs": [],
   "source": [
    "# Obtaining the derivative of a tensor with reference to other tensors\n",
    "\n",
    "# y = w*x + b\n",
    "w = torch.tensor(5., requires_grad=True)\n",
    "x = torch.tensor(2.)\n",
    "b = torch.tensor(7., requires_grad=True)\n",
    "\n",
    "y = w*x + b  #5*2 + 7 = 17\n",
    "y"
   ]
  },
  {
   "cell_type": "code",
   "execution_count": null,
   "metadata": {
    "id": "0rK9BLhsnoX6"
   },
   "outputs": [],
   "source": [
    "# Obtain the derivative of y, with reference to w and b\n",
    "\n",
    "y.backward()"
   ]
  },
  {
   "cell_type": "code",
   "execution_count": null,
   "metadata": {
    "colab": {
     "base_uri": "https://localhost:8080/"
    },
    "id": "lLBDXwOanoX7",
    "outputId": "a3ff7601-13dd-4945-9a87-94f7015d4ce1"
   },
   "outputs": [],
   "source": [
    "# Display the gradients with reference to the independent variables\n",
    "print('dy/dx:', x.grad) # None, no independent variable\n",
    "print('dy/dw:', w.grad) # x -> 2\n",
    "print('dy/db:', b.grad) # 1"
   ]
  },
  {
   "cell_type": "code",
   "execution_count": null,
   "metadata": {
    "colab": {
     "base_uri": "https://localhost:8080/"
    },
    "id": "698Nh8zEnoX7",
    "outputId": "12cd8257-0920-43be-bad6-6d2392559861"
   },
   "outputs": [],
   "source": [
    "# Compability between pytorch and numpy\n",
    "\n",
    "import numpy as np\n",
    "\n",
    "a = np.array([[1,2], [3,4]])\n",
    "b_copy = torch.tensor(a) # Generates a copy\n",
    "print(\"{}, {}\".format(a.dtype, b_copy.dtype))\n",
    "\n",
    "b_reference = torch.from_numpy(a) # Use same memory reference\n",
    "print(\"{}, {}\".format(a.dtype, b_reference.dtype))"
   ]
  },
  {
   "cell_type": "code",
   "execution_count": null,
   "metadata": {
    "colab": {
     "base_uri": "https://localhost:8080/"
    },
    "id": "i1S5fZbjnoX7",
    "outputId": "7fb86884-6b96-4ee5-fe0c-bea65ab45dc7"
   },
   "outputs": [],
   "source": [
    "a[0,0] = 10\n",
    "a"
   ]
  },
  {
   "cell_type": "code",
   "execution_count": null,
   "metadata": {
    "colab": {
     "base_uri": "https://localhost:8080/"
    },
    "id": "UhB-pDMGnoX8",
    "outputId": "ccb73c40-45a9-42ac-a5cd-451ad1c4d3aa"
   },
   "outputs": [],
   "source": [
    "b_reference"
   ]
  },
  {
   "cell_type": "markdown",
   "metadata": {},
   "source": [
    "Using the method from_numpy() has the same consequence as reshaping using view."
   ]
  },
  {
   "cell_type": "markdown",
   "metadata": {
    "id": "oyFrM0CjnoX8"
   },
   "source": [
    "Findings\n",
    "1. A tensor just support elements of the same datatype, if possible, pytorch will perform the datatype casting for us.\n",
    "2. In the shape array, elements are ommitted if size its equal to 1.\n",
    "3. Matrices must have a congruent size. In difference to MATLAB, \"empty spaces\" are not automatically filled"
   ]
  },
  {
   "cell_type": "code",
   "execution_count": null,
   "metadata": {
    "id": "3IDBzQFinoX8"
   },
   "outputs": [],
   "source": [
    "\n"
   ]
  }
 ],
 "metadata": {
  "colab": {
   "name": "00_Introduction.ipynb",
   "provenance": []
  },
  "kernelspec": {
   "display_name": "Python 3",
   "language": "python",
   "name": "python3"
  },
  "language_info": {
   "codemirror_mode": {
    "name": "ipython",
    "version": 3
   },
   "file_extension": ".py",
   "mimetype": "text/x-python",
   "name": "python",
   "nbconvert_exporter": "python",
   "pygments_lexer": "ipython3",
   "version": "3.6.13"
  }
 },
 "nbformat": 4,
 "nbformat_minor": 1
}
