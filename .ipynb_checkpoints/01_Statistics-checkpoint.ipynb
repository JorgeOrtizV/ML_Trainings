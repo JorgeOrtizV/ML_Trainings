{
 "cells": [
  {
   "cell_type": "markdown",
   "metadata": {
    "id": "QKllIpwlrJxN"
   },
   "source": [
    "### Descriptive statistics with Python\n",
    "\n",
    "The goal of this notebook is to show the user how to use statistics and numpy libraries to obtain descriptive statistics calculations"
   ]
  },
  {
   "cell_type": "code",
   "execution_count": null,
   "metadata": {
    "colab": {
     "base_uri": "https://localhost:8080/"
    },
    "id": "AblpNp8YrJxQ",
    "outputId": "2266113c-2823-43f2-b6bf-286b212343d0"
   },
   "outputs": [],
   "source": [
    "size = input(\"Give the size of the data set. Numbers from 1 to 10 will be generated\")"
   ]
  },
  {
   "cell_type": "code",
   "execution_count": null,
   "metadata": {
    "colab": {
     "base_uri": "https://localhost:8080/"
    },
    "id": "HLRGsgvYrJxT",
    "outputId": "d2b3fa14-aa7d-454b-ae71-cdd8101e12f7"
   },
   "outputs": [],
   "source": [
    "import random\n",
    "\n",
    "data = []\n",
    "\n",
    "for i in range(int(size)):\n",
    "    num = random.randrange(1,10)\n",
    "    data.append(num)\n",
    "    \n",
    "data.sort()\n",
    "\n",
    "print(data)"
   ]
  },
  {
   "cell_type": "code",
   "execution_count": null,
   "metadata": {
    "colab": {
     "base_uri": "https://localhost:8080/"
    },
    "id": "7vNGDiudrJxV",
    "outputId": "6f04b63b-cf3e-4bd7-cf9b-cc4c3aa1dd2e"
   },
   "outputs": [],
   "source": [
    "import statistics\n",
    "import numpy as np\n",
    "\n",
    "# Mean\n",
    "mean = statistics.mean(data)\n",
    "print('mean: {:.2f}'.format(mean))\n",
    "\n",
    "# Median\n",
    "median = statistics.mean(data)\n",
    "print('median: {:.2f}'.format(median))\n",
    "\n",
    "# Mode\n",
    "mode = statistics.mode(data)\n",
    "print('mode: {:.2f}'.format(mode))\n",
    "\n",
    "# Range\n",
    "min_val = data[0]\n",
    "max_val = data[-1]\n",
    "range_val = max_val - min_val\n",
    "print('range: {}'.format(range_val))\n",
    "\n",
    "# Interquartile Range\n",
    "data_np = np.ndarray(data)\n",
    "q3, q1 = np.percentile(data,[75,25])\n",
    "iqr = q3-q1\n",
    "print('Interquartile range: {}'.format(iqr))\n",
    "\n",
    "# Variance\n",
    "pop_var = np.var(data) # Population\n",
    "sample = random.sample(data, 3)\n",
    "sample_var = np.var(sample)\n",
    "print('Population variance: {:.2f}'.format(pop_var))\n",
    "print('Sample variance: {:.2f}'.format(sample_var))\n",
    "\n",
    "# Std deviation\n",
    "std_deviation = pop_var**.5\n",
    "print('Standard Deviation: {:.2f}'.format(std_deviation))"
   ]
  },
  {
   "cell_type": "code",
   "execution_count": null,
   "metadata": {
    "id": "urrTKHpxrJxW"
   },
   "outputs": [],
   "source": []
  }
 ],
 "metadata": {
  "colab": {
   "name": "Statistics.ipynb",
   "provenance": []
  },
  "kernelspec": {
   "display_name": "Python 3",
   "language": "python",
   "name": "python3"
  },
  "language_info": {
   "codemirror_mode": {
    "name": "ipython",
    "version": 3
   },
   "file_extension": ".py",
   "mimetype": "text/x-python",
   "name": "python",
   "nbconvert_exporter": "python",
   "pygments_lexer": "ipython3",
   "version": "3.6.13"
  }
 },
 "nbformat": 4,
 "nbformat_minor": 1
}
